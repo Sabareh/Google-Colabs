{
  "cells": [
    {
      "cell_type": "markdown",
      "metadata": {
        "id": "view-in-github",
        "colab_type": "text"
      },
      "source": [
        "<a href=\"https://colab.research.google.com/github/Sabareh/Google-Colabs/blob/main/Linear_regression_Code_challenge_model_solution.ipynb\" target=\"_parent\"><img src=\"https://colab.research.google.com/assets/colab-badge.svg\" alt=\"Open In Colab\"/></a>"
      ]
    },
    {
      "cell_type": "markdown",
      "metadata": {
        "id": "pju5YTQDgAVd"
      },
      "source": [
        "![1.png](data:image/png;base64,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)"
      ]
    },
    {
      "cell_type": "markdown",
      "metadata": {
        "id": "cuEpjmFOgAVi"
      },
      "source": [
        "## Integrated Project: Understanding the yield\n"
      ]
    },
    {
      "cell_type": "markdown",
      "metadata": {
        "id": "bpW9ylTpgAVj"
      },
      "source": [
        "In this coding challenge, we will apply all of the skills we learned in regression."
      ]
    },
    {
      "cell_type": "markdown",
      "metadata": {
        "id": "1Ca84ADfgAVk"
      },
      "source": [
        "⚠️ **Note that this code challenge is graded and will contribute to your overall marks. Submit this notebook for grading.**"
      ]
    },
    {
      "cell_type": "markdown",
      "metadata": {
        "id": "tEcapoeJgAVl"
      },
      "source": [
        "# Introduction to simple linear regression"
      ]
    },
    {
      "cell_type": "markdown",
      "source": [],
      "metadata": {
        "id": "s1t5zbC9kX60"
      }
    },
    {
      "cell_type": "markdown",
      "metadata": {
        "id": "N4Nc_GtDgAVl"
      },
      "source": [
        "Simple linear regression is a fundamental statistical method used to quantify the relationship between two variables. It allows us to predict an outcome (dependent variable) based on the value of one predictor (independent variable). In this challenge, we will apply simple linear regression to understand how different environmental factors affect the standardised yield of crops.\n",
        "\n",
        "Our insights will not only help local farmers maximise their harvests but also contribute to the sustainable agriculture practices in Maji Ndogo.\n",
        "\n"
      ]
    },
    {
      "cell_type": "markdown",
      "metadata": {
        "id": "fWBab7vGgAVm"
      },
      "source": [
        "# Initial data exploration"
      ]
    },
    {
      "cell_type": "markdown",
      "metadata": {
        "id": "gJ4fSMqggAVm"
      },
      "source": [
        "Before we sow the seeds of our regression model, we need to get to know our soil – the dataset. This dataset was developed through extensive agricultural surveys conducted at farms across farm survey. It contains various factors that might influence a farm's crop yield, from the elevation of the fields to the average temperature they bask in.\n",
        "\n",
        "Spend some time looking at the data dictionary and start thinking about what could be influencing our crop yield."
      ]
    },
    {
      "cell_type": "markdown",
      "metadata": {
        "id": "348YK0VkgAVn"
      },
      "source": [
        "# Data dictionary"
      ]
    },
    {
      "cell_type": "markdown",
      "metadata": {
        "id": "BqCYzPmzgAVn"
      },
      "source": [
        "**1. Geographic features**\n",
        "\n",
        "- **Field_ID:** A unique identifier for each field (BigInt).\n",
        "\n",
        "- **Elevation:** The elevation of the field above sea level in metres (Float).\n",
        "\n",
        "- **Latitude:** Geographical latitude of the field in degrees (Float). (DUMMY VARIABLE- the simulation might have created a relationship)\n",
        "\n",
        "- **Longitude:** Geographical longitude of the field in degrees (Float). (DUMMY VARIABLE- the simulation might have created a relationship)\n",
        "\n",
        "- **Location:** Province the field is in (Text).\n",
        "\n",
        "- **Slope:** The slope of the land in the field (Float).\n",
        "\n",
        "**2. Weather features**\n",
        "\n",
        "- **Rainfall:** Amount of rainfall in the area in mm (Float).\n",
        "\n",
        "- **Min_temperature_C:** Average minimum temperature recorded in Celsius (Float).(DUMMY VARIABLE)\n",
        "\n",
        "- **Max_temperature_C:** Average maximum temperature recorded in Celsius (Float).(DUMMY VARIABLE)\n",
        "\n",
        "- **Ave_temps:** Average temperature in Celcius (Float).\n",
        "\n",
        "**3. Soil and crop features**\n",
        "\n",
        "- **Soil_fertility:** A measure of soil fertility where 0 is infertile soil, and 1 is very fertile soil (Float).\n",
        "\n",
        "- **Soil_type:** Type of soil present in the field (Text).\n",
        "\n",
        "- **pH:** pH level of the soil, which is a measure of how acidic/basic the soil is (Float).\n",
        "\n",
        "**4. Farm management features**\n",
        "\n",
        "- **Field_ID:** Corresponding field identifier (BigInt).\n",
        "\n",
        "- **Pollution_level:** Level of pollution in the area where 0 is unpolluted and 1 is very polluted (Float).\n",
        "\n",
        "- **Plot_size:** Size of the plot in the field (Ha) (Float). (DUMMY VARIABLE)\n",
        "\n",
        "- **Chosen_crop:** Type of crop chosen for cultivation (Text).\n",
        "\n",
        "- **Annual_yield:** Annual yield from the field (Float). This is the total output of the field. The field size and type of crop will affect the Annual Yield (DUMMY VARIABLE - Removed)\n",
        "\n",
        "<br>\n",
        "\n",
        "**5. Target variable**\n",
        "- **Standard_yield:** Standardised yield expected from the field, normalised per crop (Float). This is independent of field size, or crop type. Multiplying this number by the field size, and average crop yield will give the Annual_Yield.\n",
        "\n",
        "---"
      ]
    },
    {
      "cell_type": "markdown",
      "metadata": {
        "id": "yCNaBAdwgAVo"
      },
      "source": [
        "Let's import our database again, like we did last time. We won't use the weather data so it is commented out.\n",
        "\n",
        "**Important:** Ensure that `data_ingestion.py` file and the `field_data_processor.py` files are stored in the same folder as your notebook, otherwise the data import will fail.\n",
        "\n",
        "[Download files here](https://drive.google.com/file/d/1qx9iikccTPTn3TQXFMwpGTKyCvkdELHc/view?usp=sharing)\n"
      ]
    },
    {
      "cell_type": "code",
      "source": [
        "# Read the database, and clean the data using the processing modules we built.\n",
        "\n",
        "import re\n",
        "import numpy as np\n",
        "import pandas as pd\n",
        "from field_data_processor import FieldDataProcessor\n",
        "# from weather_data_processor import WeatherDataProcessor\n",
        "import logging\n",
        "\n",
        "logging.basicConfig(level=logging.INFO, format='%(asctime)s - %(name)s - %(levelname)s - %(message)s')\n",
        "\n",
        "config_params = {\n",
        "    \"sql_query\": \"\"\"\n",
        "            SELECT *\n",
        "            FROM geographic_features\n",
        "            LEFT JOIN weather_features USING (Field_ID)\n",
        "            LEFT JOIN soil_and_crop_features USING (Field_ID)\n",
        "            LEFT JOIN farm_management_features USING (Field_ID)\n",
        "            \"\"\",\n",
        "    \"db_path\": 'sqlite:///https://drive.google.com/file/d/16l-_aPd0ozsV51MsrlzQzy-T-UPJ4z1M/view?usp=sharing',#db file\n",
        "    \"columns_to_rename\": {'Annual_yield': 'Crop_type', 'Crop_type': 'Annual_yield'},\n",
        "    \"values_to_rename\": {'cassaval': 'cassava', 'wheatn': 'wheat', 'teaa': 'tea'},\n",
        "    \"weather_csv_path\": \"https://drive.google.com/file/d/17d7bFuR855k90jT8A-oD7YvlRgD1xKVN/view?usp=sharing\", #csv file\n",
        "    \"weather_mapping_csv\": \"https://drive.google.com/file/d/11swdhp8XeQcKrlL4Mk-y5dObTBwMfDX8/view?usp=sharing\",#csv file\n",
        "    \"regex_patterns\" : {\n",
        "            'Rainfall': r'(\\d+(\\.\\d+)?)\\s?mm',\n",
        "            'Temperature': r'(\\d+(\\.\\d+)?)\\s?C',\n",
        "            'Pollution_level': r'=\\s*(-?\\d+(\\.\\d+)?)|Pollution at \\s*(-?\\d+(\\.\\d+)?)'\n",
        "            },\n",
        "}\n",
        "# Ignoring the field data for now.\n",
        "field_processor = FieldDataProcessor(config_params)\n",
        "field_processor.process()\n",
        "field_df = field_processor.df\n",
        "\n",
        "# We're not going to use the weather data this time, so we'll ignore it.\n",
        "# weather_processor = WeatherDataProcessor(config_params)\n",
        "# weather_processor.process()\n",
        "# weather_df = weather_processor.weather_df\n",
        "\n",
        "dataset = field_df.drop(\"Weather_station\", axis=1)"
      ],
      "metadata": {
        "id": "8oJy5mFvj4AQ"
      },
      "execution_count": null,
      "outputs": []
    },
    {
      "cell_type": "code",
      "execution_count": null,
      "metadata": {
        "id": "L2DB8I3wgAVq"
      },
      "outputs": [],
      "source": [
        "dataset"
      ]
    },
    {
      "cell_type": "markdown",
      "metadata": {
        "id": "R-9tBm0rgAVq"
      },
      "source": [
        "Before diving into our analysis, it's crucial to ensure the integrity of our dataset and that the data is still as we expect it to be."
      ]
    },
    {
      "cell_type": "code",
      "execution_count": null,
      "metadata": {
        "id": "edEQAlzvgAVq"
      },
      "outputs": [],
      "source": [
        "# Validate the data\n",
        "# !pip install pytest\n",
        "\n",
        "dataset.to_csv('sampled_field_df.csv', index=False)\n",
        "\n",
        "!pytest validate_data.py -v\n",
        "\n",
        "import os# Define the file paths\n",
        "field_csv_path = 'sampled_field_df.csv'\n",
        "\n",
        "# Delete sampled_field_df.csv if it exists\n",
        "if os.path.exists(field_csv_path):\n",
        "    os.remove(field_csv_path)\n",
        "    print(f\"Deleted {field_csv_path}\")\n",
        "else:\n",
        "    print(f\"{field_csv_path} does not exist.\")"
      ]
    },
    {
      "cell_type": "markdown",
      "metadata": {
        "id": "AQRZH3TMgAVr"
      },
      "source": [
        "# Analysis"
      ]
    },
    {
      "cell_type": "markdown",
      "metadata": {
        "id": "EzxqYb4igAVr"
      },
      "source": [
        "## Challenge 1: Visualising the relationship"
      ]
    },
    {
      "cell_type": "markdown",
      "metadata": {
        "id": "2rVNfMy_gAVr"
      },
      "source": [
        "With our data ready and loaded, it's time to start exploring.\n",
        "\n",
        "Our goal is to determine whether any of the features in our dataset are influencing the `Standard_yield` of a farm. If we can figure out what these relationships are, then we can use them to start predicting what future yields will be, based on these features.\n",
        "\n",
        "For this analysis, we want to find whether any features have a linear relationship with `Standard_yield` so that we can fit a linear regression model to the data. This is important because if we try and fit a linear regression model to non-linear data, our predictions won't be good.\n",
        "\n",
        "Any of the features could have an impact on the `Standard_yield`. Let's begin with `Ave_temps`, the average temperature of the region, and its relationship to `Standard_yield`.\n",
        "\n",
        "Let's start with the basics: a scatter plot.\n"
      ]
    },
    {
      "cell_type": "markdown",
      "metadata": {
        "id": "AhE27nM0gAVr"
      },
      "source": [
        "**⚙️ Your task:**\n",
        "\n",
        " 1. Generate a scatter plot to visualise the relationship between `Ave_temps` and `Standard_yield`.\n",
        " 2. Reflect on the scatter plot. Does it suggest a linear relationship, or is the story more complex?\n",
        "\n",
        "**Note:**\n",
        "- Use `matplotlib` to create the scatter plot."
      ]
    },
    {
      "cell_type": "code",
      "execution_count": null,
      "metadata": {
        "id": "XJHVHVObgAVr"
      },
      "outputs": [],
      "source": [
        "# Your code here\n",
        "\n",
        "\n"
      ]
    },
    {
      "cell_type": "markdown",
      "metadata": {
        "id": "qIm9XEgzgAVs"
      },
      "source": [
        "Now, let's write a function to calculate the Pearson correlation coefficient.\n",
        "\n",
        "**⚙️ Your task:**\n",
        "\n",
        "Create a function named `get_correlation` that:\n",
        "1. Takes a DataFrame and the names of the columns we want to determine the correlation for as parameters (`Ave_temps` and `Standard_yield`).\n",
        "2. Calculates the Pearson correlation coefficient between these two columns to quantify their linear relationship.\n",
        "4. Returns the Pearson correlation coefficient.\n",
        "\n",
        "**Note:**\n",
        "- Use `scipy` to calculate the Pearson correlation coefficient.\n",
        "- Ensure your function returns the Pearson correlation coefficient as a float."
      ]
    },
    {
      "cell_type": "code",
      "execution_count": null,
      "metadata": {
        "id": "ppVR3Pp-gAVs"
      },
      "outputs": [],
      "source": [
        "from scipy.stats import pearsonr"
      ]
    },
    {
      "cell_type": "code",
      "execution_count": null,
      "metadata": {
        "id": "F1Vk7p_pgAVs"
      },
      "outputs": [],
      "source": [
        "### START FUNCTION\n",
        "def get_correlation(df, col1, col2):\n",
        "\n",
        "### END FUNCTION"
      ]
    },
    {
      "cell_type": "markdown",
      "metadata": {
        "id": "egc5koEOgAVs"
      },
      "source": [
        "Input:"
      ]
    },
    {
      "cell_type": "code",
      "execution_count": null,
      "metadata": {
        "id": "WK3yrGqLgAVs"
      },
      "outputs": [],
      "source": [
        "correlation ="
      ]
    },
    {
      "cell_type": "markdown",
      "metadata": {
        "id": "zLRM46B2gAVs"
      },
      "source": [
        "Expected output\n",
        "```\n",
        "Correlation: 0.006785950289020164\n",
        "```"
      ]
    },
    {
      "cell_type": "markdown",
      "metadata": {
        "id": "oT6ZQ9fjgAVs"
      },
      "source": [
        "What do you notice about the scatter plot and the dispersion of data points? It's essential to visualise our data first; if the data doesn't follow a linear pattern, then a linear regression model may fail to accurately capture the underlying relationship. The correlation also seems extremly low, what does this tell us?\n",
        "\n",
        "Let's write down some of our observations:\n",
        "\n",
        "  - ✍️ Your notes here"
      ]
    },
    {
      "cell_type": "markdown",
      "metadata": {
        "id": "HOp9qiimgAVt"
      },
      "source": [
        "## Challenge 2: A breath of fresh data: Pollution as a predictor\n"
      ]
    },
    {
      "cell_type": "markdown",
      "metadata": {
        "id": "cB4g6oligAVt"
      },
      "source": [
        "It's time to shift our gaze from the warmth of the sun to the haze of pollution. Could the levels of pollution, a concern for farmers and environmentalists alike, be an indicator of our yields?\n",
        "\n",
        "Let's begin by fitting a simple linear regression model, to try and capture the linear relationship between these columns.\n",
        "\n",
        "**⚙️ Your task:**\n",
        "\n",
        "Create a function named `fit_linear_regression_model` that:\n",
        "1. Takes in a DataFrame and the names of the `Pollution_level` and `Standard_yield` columns.\n",
        "2. Fits a linear regression model to the data.\n",
        "3. Returns the model, the model predictions and the actual y-values.\n",
        "\n",
        "**Note:**\n",
        "- Use `LinearRegression` from `sklearn` to fit the model."
      ]
    },
    {
      "cell_type": "code",
      "execution_count": null,
      "metadata": {
        "id": "WhLkseULgAVt"
      },
      "outputs": [],
      "source": [
        "from sklearn.linear_model import LinearRegression"
      ]
    },
    {
      "cell_type": "code",
      "execution_count": null,
      "metadata": {
        "id": "J9RyCD_egAVt"
      },
      "outputs": [],
      "source": [
        "### START FUNCTION\n",
        "def\n",
        "\n",
        "return\n",
        "### END FUNCTION"
      ]
    },
    {
      "cell_type": "markdown",
      "metadata": {
        "id": "B-B0YUYRgAVt"
      },
      "source": [
        "Input:"
      ]
    },
    {
      "cell_type": "code",
      "execution_count": null,
      "metadata": {
        "id": "St4ry5DsgAVu"
      },
      "outputs": [],
      "source": [
        "\n",
        "print(f\"Model: {model}\")\n",
        "print(f\"Predictions: {predictions}\")\n",
        "print(f\"Actual Y-Values: {y_values}\")"
      ]
    },
    {
      "cell_type": "markdown",
      "metadata": {
        "id": "98KtSIaAgAVu"
      },
      "source": [
        "Expected output:\n",
        "```\n",
        "- Model: an instance of the LinearRegression class.\n",
        "- Predictions: a NumPy array of predicted values.\n",
        "- y: a Pandas Series with the actual target values used for training.\n",
        "```"
      ]
    },
    {
      "cell_type": "markdown",
      "metadata": {
        "id": "2UhNznF6gAVu"
      },
      "source": [
        "Linear regression models only work well if our data is in fact linear. So, lets create a scatter plot to visualise the relationship between pollution and crop yields. In addition to this, let's use the predictions from the model we fit to add the line of best fit to our scatter plot.\n",
        "\n",
        "**⚙️ Your task:**\n",
        "\n",
        "1. Generate a scatter plot to visualise the effect that pollution has on standard yield.\n",
        "2. Draw the line of best fit\n",
        "\n",
        "**Hint:**\n",
        "\n",
        "You can use this line of code to draw the regression line on the plot:\n",
        "`plt.plot(X, predictions, color='red', label='Regression line')`"
      ]
    },
    {
      "cell_type": "code",
      "execution_count": null,
      "metadata": {
        "id": "h55uIanCgAVu"
      },
      "outputs": [],
      "source": [
        "X = dataset[['Pollution_level']]\n",
        "y = dataset['Standard_yield']\n",
        "\n"
      ]
    },
    {
      "cell_type": "markdown",
      "metadata": {
        "id": "KwZgh2oOgAVu"
      },
      "source": [
        "Now, use the get_correlation() function that we defined earlier to test the correlation between `Pollution_level` and `Standard_yield`."
      ]
    },
    {
      "cell_type": "code",
      "execution_count": null,
      "metadata": {
        "id": "pFDFWCHzgAVv"
      },
      "outputs": [],
      "source": [
        "Pollution_correlation ="
      ]
    },
    {
      "cell_type": "markdown",
      "metadata": {
        "id": "uiWJstb9gAVv"
      },
      "source": [
        "Expected output\n",
        "```\n",
        "Correlation: -0.2857609646210543\n",
        "```"
      ]
    },
    {
      "cell_type": "markdown",
      "metadata": {
        "id": "VlAS5dM3gAVx"
      },
      "source": [
        "Reflect on the difference between this plot and correlation and the previous one with the average temperature. Is the relationship between pollution and yield more linear?\n",
        "\n",
        "  - ✍️ Your notes here"
      ]
    },
    {
      "cell_type": "markdown",
      "metadata": {
        "id": "SXnixoZYgAVx"
      },
      "source": [
        "\n",
        "We can also gain a better understanding of our model by examining the slope and intercept.\n",
        "\n",
        "**⚙️ Your task:**\n",
        "\n",
        "Create a function named `get_slope_intercept` that:\n",
        "1. Inputs the `model` we fitted and calculates the slope and intercept of the line of best fit.\n",
        "2. Return the slope and intercept as a tuple.\n"
      ]
    },
    {
      "cell_type": "code",
      "execution_count": null,
      "metadata": {
        "id": "3m84jwqYgAVx"
      },
      "outputs": [],
      "source": [
        "### START FUNCTION\n",
        "def\n",
        "\n",
        "return\n",
        "### END FUNCTION"
      ]
    },
    {
      "cell_type": "markdown",
      "metadata": {
        "id": "IfGaIgTQgAVx"
      },
      "source": [
        "Input:"
      ]
    },
    {
      "cell_type": "code",
      "execution_count": null,
      "metadata": {
        "id": "2-I6P7RCgAVy"
      },
      "outputs": [],
      "source": [
        "slope, intercept ="
      ]
    },
    {
      "cell_type": "markdown",
      "metadata": {
        "id": "jeae6XakgAVy"
      },
      "source": [
        "Expected output:\n",
        "```\n",
        "Slope: -0.1427617720986604\n",
        "Intercept: 0.5662684415393379\n",
        "```"
      ]
    },
    {
      "cell_type": "markdown",
      "metadata": {
        "id": "FufKEGMqgAVy"
      },
      "source": [
        "\n",
        "What does the slope tell us about the strength of the relationship between pollution and yield? Also, what can we learn from the y-intercept?\n",
        "\n",
        "  - ✍️ Your notes here\n"
      ]
    },
    {
      "cell_type": "markdown",
      "metadata": {
        "id": "MRja9AHJgAVy"
      },
      "source": [
        "## Challenge 3: The haze clears: Evaluating pollution's predictive power"
      ]
    },
    {
      "cell_type": "markdown",
      "metadata": {
        "id": "ji8pHatIgAVy"
      },
      "source": [
        "When we look at the scatterplots of `Standard_yield` with `Ave_temps` and `Pollution_level`, it appears that pollution level might have a more linear relationship.  This means that we could potentially use a simple linear regression model to make predictions about the yield of a farm based on its pollution level. However, before we do this we need to further assess the strength of the linear relationship between `Pollution_level` and `Standard_yield`.\n",
        "\n",
        "Let's assess our model's performance using R-squared, Mean Absolute Error (MAE), Mean Squared Error (MSE), and Root Mean Squared Error (RMSE).\n",
        "\n",
        "**⚙️ Your task:**\n",
        "\n",
        "Create a function named `calculate_evaluation_metrics` that:\n",
        "1. Takes the predictions and y-values from our fitted model as input.\n",
        "2. Calculates and returns the R-squared, Mean Absolute Error (MAE), Mean Squared Error (MSE), and Root Mean Squared Error (RMSE) of the model's performance.\n",
        "\n",
        "**Note:**\n",
        "1. Calculate the model's performance metrics using the entire dataset.\n",
        "2. Return the evaluation metrics as a tuple in the order: R-squared, MAE, MSE, RMSE."
      ]
    },
    {
      "cell_type": "code",
      "execution_count": null,
      "metadata": {
        "id": "KwO2LT3MgAVz"
      },
      "outputs": [],
      "source": [
        "from sklearn\n",
        "import numpy"
      ]
    },
    {
      "cell_type": "code",
      "execution_count": null,
      "metadata": {
        "id": "Z_2-5-eJgAVz"
      },
      "outputs": [],
      "source": [
        "### START FUNCTION\n",
        "def\n",
        "\n",
        "return\n",
        "### END FUNCTION"
      ]
    },
    {
      "cell_type": "markdown",
      "metadata": {
        "id": "TmUGFYgkgAVz"
      },
      "source": [
        "Input:"
      ]
    },
    {
      "cell_type": "code",
      "execution_count": null,
      "metadata": {
        "id": "wLRugOglgAV0"
      },
      "outputs": [],
      "source": [
        "evaluation_metrics ="
      ]
    },
    {
      "cell_type": "markdown",
      "metadata": {
        "id": "SNz0e1DygAV0"
      },
      "source": [
        "Expected output:\n",
        "\n",
        "A tuple containing numerical values for R-squared, MAE, MSE, and RMSE (give or take 0.0001):\n",
        "\n",
        "```python\n",
        "R-squared: 0.08165932890115546\n",
        "MAE: 0.08554642090904992\n",
        "MSE: 0.011477732254034848\n",
        "RMSE: 0.10713417873878928\n",
        "\n",
        "```"
      ]
    },
    {
      "cell_type": "markdown",
      "metadata": {
        "id": "s3ai0OXUgAV0"
      },
      "source": [
        "Think about what these metrics tell us about our model's accuracy and reliability. Write down your observations:\n",
        "\n",
        "  - ✍️ Your notes here\n"
      ]
    },
    {
      "cell_type": "markdown",
      "metadata": {
        "id": "xYCyO73UgAV1"
      },
      "source": [
        "## Challenge 4: The dividing line: Train-test split in action"
      ]
    },
    {
      "cell_type": "markdown",
      "metadata": {
        "id": "GKJ2yAAVgAV1"
      },
      "source": [
        "As we delve deeper into the relationship between `Pollution_level` and `Standard_yield`, we must ensure our model is not merely memorising the data but truly understanding it. This brings us to the pivotal technique of Train-Test Split.\n",
        "\n",
        "**The importance of train-test split**\n",
        "\n",
        "Imagine teaching a student for an exam by using the very questions that will appear on it. They might score perfectly, but does it mean they've truly learned? Similarly, a model might perform exceptionally on the data it was trained on, but the real test of knowledge comes from unseen data. This is where the train-test split comes in, allowing us to assess our model's generalisation capabilities by training on one subset of data and testing on another.\n",
        "\n",
        "**Your task**\n",
        "\n",
        "Create a function named `data_train_test_split` that:\n",
        "1. Takes in the DataFrame and the two columns we want to model the relationship between (`Pollution_level` and `Standard_yield`).\n",
        "2. Separates it into features (`X`) based on `Pollution_level` and the target (`y`) based on `Standard_yield`.\n",
        "3. Splits the data into training and testing sets using an 80-20 split and sets `random_state = 42` for reproducibility.\n",
        "4.  Returns a tuple containing: `X_train` and `X_test`, which are DataFrames containing features for training and testing, respectively, along with `y_train` and `y_test`, which are Series representing subsets of the original DataFrame's target variable for training and testing.\n",
        "\n",
        "**Note:**\n",
        "- Use `train_test_split` from `sklearn.model_selection` to split the data.\n",
        "- Train a linear regression model on the training set using `LinearRegression` from `sklearn.linear_model`.\n",
        "- If the random state is not set to `42` the code will not be marked correctly."
      ]
    },
    {
      "cell_type": "code",
      "execution_count": null,
      "metadata": {
        "id": "wlYiYWX1gAV1"
      },
      "outputs": [],
      "source": [
        "from sklearn.model_selection import train_test_split"
      ]
    },
    {
      "cell_type": "code",
      "execution_count": null,
      "metadata": {
        "id": "LaHPF7U4gAV2"
      },
      "outputs": [],
      "source": [
        "### START FUNCTION\n",
        "def\n",
        "\n",
        "return\n",
        "### END FUNCTION"
      ]
    },
    {
      "cell_type": "markdown",
      "metadata": {
        "id": "VBFXdws5gAV3"
      },
      "source": [
        "Input:"
      ]
    },
    {
      "cell_type": "code",
      "execution_count": null,
      "metadata": {
        "id": "qmUty2s5gAV3"
      },
      "outputs": [],
      "source": [
        "X_train, X_test, y_train, y_test ="
      ]
    },
    {
      "cell_type": "markdown",
      "metadata": {
        "id": "RfnTDsUMgAV3"
      },
      "source": [
        "Expected output:\n",
        "```\n",
        "- X_train: DataFrame, subset of the original DataFrame's features for training.\n",
        "- X_test: DataFrame, subset of the original DataFrame's features for testing.\n",
        "- y_train: Series, subset of the original DataFrame's target variable for training.\n",
        "- y_test: Series, subset of the original DataFrame's target variable for testing.\n",
        "```"
      ]
    },
    {
      "cell_type": "markdown",
      "metadata": {
        "id": "HZHvOlP8gAV3"
      },
      "source": [
        "Now lets fit a linear regression model to the data.\n",
        "\n",
        "**Your task**\n",
        "\n",
        "Create a function named `train_split_linear_regression_model()` that:\n",
        "1. Takes `X_train`, `X_test`, `y_train`, `y_test` as input (the results from the `data_train_test_split()` function).\n",
        "2. Trains a simple linear regression model on the training set.\n",
        "3. Uses the testing set to make predictions.\n",
        "4. Returns a tuple containing: the model, the predictions and y_test (the actual y values in the testing set values) ."
      ]
    },
    {
      "cell_type": "code",
      "execution_count": null,
      "metadata": {
        "id": "oQYvXO-ngAV4"
      },
      "outputs": [],
      "source": [
        "from sklearn"
      ]
    },
    {
      "cell_type": "code",
      "execution_count": null,
      "metadata": {
        "id": "T2CT7YyggAV4"
      },
      "outputs": [],
      "source": [
        "### START FUNCTION\n",
        "def\n",
        "\n",
        "return\n",
        "### END FUNCTION"
      ]
    },
    {
      "cell_type": "markdown",
      "metadata": {
        "id": "5GiTZsCugAV4"
      },
      "source": [
        "Input:"
      ]
    },
    {
      "cell_type": "code",
      "execution_count": null,
      "metadata": {
        "id": "sSIzRknRgAV5"
      },
      "outputs": [],
      "source": [
        "train_test_model, predictions_test, y_test ="
      ]
    },
    {
      "cell_type": "markdown",
      "metadata": {
        "id": "pPaQBqrqgAV5"
      },
      "source": [
        "Expected output:\n",
        "```\n",
        "- Model: an instance of the LinearRegression class.\n",
        "- Predictions: a NumPy array of predicted values.\n",
        "- y_test: a Pandas Series with the actual target values used for evaluating the model.\n",
        "```"
      ]
    },
    {
      "cell_type": "markdown",
      "metadata": {
        "id": "scqz0atQgAV5"
      },
      "source": [
        "Now, let's evaluate our use our train-test model by determining R-squared, MAE, MSE, and RMSE.\n",
        "\n",
        "**⚙️ Your task:**\n",
        "\n",
        "1. Use the `calculate_evaluation_metrics` function (defined in Challenge 3) to calculate the R-squared, MAE, MSE, and RMSE.\n",
        "2. The function should return a tuple containing the evaluation metrics (R-squared, MAE, MSE, and RMSE).\n",
        "\n",
        "**Note:**\n",
        "\n",
        "- Ensure to use the test set to calculate the evaluation metrics."
      ]
    },
    {
      "cell_type": "code",
      "execution_count": null,
      "metadata": {
        "id": "DMGgNAkygAV5"
      },
      "outputs": [],
      "source": [
        "# your code here"
      ]
    },
    {
      "cell_type": "markdown",
      "metadata": {
        "id": "WTWgv3oWgAV5"
      },
      "source": [
        "Expected output:\n",
        "\n",
        "A tuple containing numerical values for R-squared, MAE, MSE, and RMSE (give or take 0.0001):\n",
        "\n",
        "```python\n",
        "R-squared: 0.08065722992150859\n",
        "MAE:  0.08794942119747501\n",
        "MSE: 0.012250634233355654\n",
        "RMSE: 0.11068258324305434\n",
        "\n",
        "```"
      ]
    },
    {
      "cell_type": "markdown",
      "metadata": {
        "id": "slysDizdgAV6"
      },
      "source": [
        "Reflect on the difference between these metics and the metrics we obtained from the previous model (that was not split into training and testings sets). Why do you think the fit is worse now? And, why should we choose the worse option? (Reflect on the course material if these answers to these questions are not clear.)\n",
        "\n",
        "  - ✍️ Your notes here\n"
      ]
    },
    {
      "cell_type": "markdown",
      "metadata": {
        "id": "U7d4-XJ_gAV6"
      },
      "source": [
        "## Challenge 5: Diagnosing model fit through residual analysis"
      ]
    },
    {
      "cell_type": "markdown",
      "metadata": {
        "id": "5xnWkhsAgAV6"
      },
      "source": [
        "From our analysis, it seems as though neither `Ave_temps` or `Pollution_level` have a strong linear fit with `Standard_yield`. However, even if we had obtained good results from our evaluation metrics, there are still other crucial assumptions we need to verify to ensure our model is well-fitted. Residual analysis plays a pivotal role in diagnosing the fit of linear regression models, helping us understand whether the assumptions of linearity, independence, and homoscedasticity (constant variance) of residuals are met.\n",
        "\n",
        "If they are not met, can we confidently model this problem using the model? And why?\n",
        "\n",
        "  - ✍️ Your notes here"
      ]
    },
    {
      "cell_type": "markdown",
      "metadata": {
        "id": "m42VlBBdgAV6"
      },
      "source": [
        "First, let's create a histogram.\n",
        "\n",
        "**⚙️ Your task:**\n",
        "\n",
        "1. Calucate the residuals of our train test model (difference between `y_test` and `predictions_test`)\n",
        "2. Plot these residuals as a histogram to assess their distribution and identify any patterns."
      ]
    },
    {
      "cell_type": "code",
      "execution_count": null,
      "metadata": {
        "id": "HA7ynQ96gAV7"
      },
      "outputs": [],
      "source": [
        "import matplotlib\n",
        "\n",
        "#  Draw the histogram of residuals\n",
        "residuals ="
      ]
    },
    {
      "cell_type": "markdown",
      "metadata": {
        "id": "hgMHHimbgAV7"
      },
      "source": [
        "What does the histogram tell us about our data:\n",
        "\n",
        "1. Examine the shape of the histogram. What does the distribution of residuals tell us about the normality of the data? Consider whether the residuals appear to be symmetrically distributed around zero.\n",
        "\n",
        "    - ✍️ Your notes here\n",
        "\n",
        "2. Compare the tails of the histogram to a normal distribution. Are there signs of heavy tails or skewness that could affect the reliability of the regression model's predictions?\n",
        "\n",
        "    - ✍️ Your notes here\n",
        "\n",
        "3. Assess the centering of the histogram around the zero line. How does this central tendency reflect on the bias of the model's predictions?\n",
        "\n",
        "    - ✍️ Your notes here"
      ]
    },
    {
      "cell_type": "markdown",
      "metadata": {
        "id": "Eevy3gBOgAV7"
      },
      "source": [
        "Now, let's create a scatter plot of these residuals against the predicted values.\n",
        "\n",
        "**⚙️ Your task:**\n",
        "\n",
        "1. Create a scatter plot of the residuals against the predicted values - `predictions_test` should be on the x-axis and the `residuals` on the y-axis.\n",
        "\n",
        "**Note:**\n",
        "\n",
        "- A horizontal line can be added at y=0 to make it easier to see if the residuals are evenly distributed around zero by adding this line of code:\n",
        "`plt.axhline(y=0, color='r', linestyle='--')`\n"
      ]
    },
    {
      "cell_type": "code",
      "execution_count": null,
      "metadata": {
        "id": "zADRDm2ggAV7"
      },
      "outputs": [],
      "source": [
        "#  Draw the scatter plot of residuals against the predicted values\n",
        "\n"
      ]
    },
    {
      "cell_type": "markdown",
      "metadata": {
        "id": "zhIqR7TxgAV7"
      },
      "source": [
        "Relfect on what the scatter plot tells us about our data and the fit of the model:\n",
        "\n",
        "1. Analyse the scatter plot for any apparent patterns or structures in the data. What does this suggest about the appropriateness of the linear regression model for the dataset?\n",
        "\n",
        "    - ✍️ Your notes here\n",
        "\n",
        "2. Inspect the plot for signs of heteroscedasticity. How does the spread of residuals change as the predicted values increase? What might this imply about the constant variance assumption in linear regression?\n",
        "\n",
        "    - ✍️ Your notes here\n",
        "\n",
        "3. Identify whether the residuals are evenly scattered above and below the zero line across the range of predicted values. What can this tell us about the model's performance in terms of bias and prediction accuracy?\n",
        "\n",
        "    - ✍️ Your notes here\n",
        "\n",
        "4. Look for outliers or clusters of points that deviate significantly from the majority. How might these points influence the overall fit of the model?\n",
        "\n",
        "    - ✍️ Your notes here\n"
      ]
    },
    {
      "cell_type": "markdown",
      "metadata": {
        "id": "zDgRxwKOgAV8"
      },
      "source": [
        "Our final task is to examine the mean and standard deviation of the residuals, which provide further insights into the model's performance.\n",
        "\n",
        "**⚙️ Your task:**\n",
        "\n",
        "Create a function named `calculate_residuals_statistics` that:\n",
        "1. Uses the `predictions_test` and `y_test` (obtained from Challenge 4) to calculate the residuals.\n",
        "2. Calculates the mean and standard deviation of the residuals.\n",
        "\n",
        "**Note:**\n",
        "\n",
        "- Use `numpy` for the mean and standard deviation."
      ]
    },
    {
      "cell_type": "code",
      "execution_count": null,
      "metadata": {
        "id": "dYNmI_f4gAV8"
      },
      "outputs": [],
      "source": [
        "import numpy as np"
      ]
    },
    {
      "cell_type": "code",
      "execution_count": null,
      "metadata": {
        "id": "g-7UoP2BgAV8"
      },
      "outputs": [],
      "source": [
        "### START FUNCTION\n",
        "def\n",
        "\n",
        "return\n",
        "### END FUNCTION"
      ]
    },
    {
      "cell_type": "markdown",
      "metadata": {
        "id": "lFFzDSxlgAV8"
      },
      "source": [
        "Input:"
      ]
    },
    {
      "cell_type": "code",
      "execution_count": null,
      "metadata": {
        "id": "W6XhcQ1cgAV8"
      },
      "outputs": [],
      "source": [
        "mean_residual, std_residual ="
      ]
    },
    {
      "cell_type": "markdown",
      "metadata": {
        "id": "hIBUubRggAV9"
      },
      "source": [
        "Expected output:\n",
        "```\n",
        "Mean: 0.0058580231923217015\n",
        "Standard deviation: 0.11052745268770957\n",
        "```"
      ]
    },
    {
      "cell_type": "markdown",
      "metadata": {
        "id": "MAuyqD4CgAV9"
      },
      "source": [
        "What does the mean of the residuals tell us about the bias in our predictions? How does a mean close to zero reflect on our model's accuracy?\n",
        "\n",
        "- ✍️ Your notes here\n",
        "\n",
        "What does the standard deviation of the residuals indicate about the variability of our predictions? Why is it important for this value to be relatively low?\n",
        "\n",
        " - ✍️ Your notes here\n",
        "\n",
        "What are the potential consequences of a high standard deviation of residuals on the reliability of the model's predictions? How might this affect our confidence in the model's estimates?\n",
        "\n",
        "- ✍️ Your notes here"
      ]
    },
    {
      "cell_type": "markdown",
      "metadata": {
        "id": "wI0PK-8_gAV9"
      },
      "source": [
        "## Conclusion\n",
        "\n",
        "#####Notes here"
      ]
    },
    {
      "cell_type": "markdown",
      "metadata": {
        "id": "cuFm_l8lgAV9"
      },
      "source": [
        "![2.jpg](data:image/jpeg;base64,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)"
      ]
    }
  ],
  "metadata": {
    "kernelspec": {
      "display_name": "ExploreDS",
      "language": "python",
      "name": "python3"
    },
    "language_info": {
      "codemirror_mode": {
        "name": "ipython",
        "version": 3
      },
      "file_extension": ".py",
      "mimetype": "text/x-python",
      "name": "python",
      "nbconvert_exporter": "python",
      "pygments_lexer": "ipython3",
      "version": "3.12.1"
    },
    "colab": {
      "provenance": [],
      "include_colab_link": true
    }
  },
  "nbformat": 4,
  "nbformat_minor": 0
}